{
 "cells": [
  {
   "cell_type": "markdown",
   "metadata": {},
   "source": [
    "# Analysis of dataset on titles of new articles\n",
    "</br></br>\n",
    "This notebook contains analysis on given dataset. Following are the subsections in this notebook: \n",
    "</br>\n",
    "- Number of unique entries in each column\n",
    "- Number of articles published in each year\n",
    "- Authors with maximum number of articles published\n",
    "- Year wise top 10 articles based on number of up_votes\n",
    "- Average articles published per year\n",
    "- Common famous authors across all the years\n",
    "- Most famous articles\n",
    "- LDA on titles"
   ]
  },
  {
   "cell_type": "code",
   "execution_count": 1,
   "metadata": {},
   "outputs": [
    {
     "name": "stderr",
     "output_type": "stream",
     "text": [
      "[nltk_data] Downloading package wordnet to /Users/hitesh/nltk_data...\n",
      "[nltk_data]   Package wordnet is already up-to-date!\n"
     ]
    },
    {
     "data": {
      "text/plain": [
       "True"
      ]
     },
     "execution_count": 1,
     "metadata": {},
     "output_type": "execute_result"
    }
   ],
   "source": [
    "import csv\n",
    "import numpy as np\n",
    "import pandas as pd\n",
    "import heapq\n",
    "import matplotlib.pyplot as plt\n",
    "from sklearn.feature_extraction.text import CountVectorizer, TfidfVectorizer\n",
    "import gensim\n",
    "from gensim.utils import simple_preprocess\n",
    "from gensim.parsing.preprocessing import STOPWORDS\n",
    "from gensim import corpora, models\n",
    "from pprint import pprint\n",
    "from nltk.stem import WordNetLemmatizer, SnowballStemmer\n",
    "from nltk.stem.porter import *\n",
    "np.random.seed(2018)\n",
    "import nltk\n",
    "nltk.download('wordnet')"
   ]
  },
  {
   "cell_type": "code",
   "execution_count": 2,
   "metadata": {},
   "outputs": [
    {
     "data": {
      "text/html": [
       "<div>\n",
       "<style scoped>\n",
       "    .dataframe tbody tr th:only-of-type {\n",
       "        vertical-align: middle;\n",
       "    }\n",
       "\n",
       "    .dataframe tbody tr th {\n",
       "        vertical-align: top;\n",
       "    }\n",
       "\n",
       "    .dataframe thead th {\n",
       "        text-align: right;\n",
       "    }\n",
       "</style>\n",
       "<table border=\"1\" class=\"dataframe\">\n",
       "  <thead>\n",
       "    <tr style=\"text-align: right;\">\n",
       "      <th></th>\n",
       "      <th>time_created</th>\n",
       "      <th>date_created</th>\n",
       "      <th>up_votes</th>\n",
       "      <th>down_votes</th>\n",
       "      <th>title</th>\n",
       "      <th>over_18</th>\n",
       "      <th>author</th>\n",
       "      <th>category</th>\n",
       "    </tr>\n",
       "  </thead>\n",
       "  <tbody>\n",
       "    <tr>\n",
       "      <th>0</th>\n",
       "      <td>1201232046</td>\n",
       "      <td>2008-01-25</td>\n",
       "      <td>3</td>\n",
       "      <td>0</td>\n",
       "      <td>Scores killed in Pakistan clashes</td>\n",
       "      <td>False</td>\n",
       "      <td>polar</td>\n",
       "      <td>worldnews</td>\n",
       "    </tr>\n",
       "    <tr>\n",
       "      <th>1</th>\n",
       "      <td>1201232075</td>\n",
       "      <td>2008-01-25</td>\n",
       "      <td>2</td>\n",
       "      <td>0</td>\n",
       "      <td>Japan resumes refuelling mission</td>\n",
       "      <td>False</td>\n",
       "      <td>polar</td>\n",
       "      <td>worldnews</td>\n",
       "    </tr>\n",
       "    <tr>\n",
       "      <th>2</th>\n",
       "      <td>1201232523</td>\n",
       "      <td>2008-01-25</td>\n",
       "      <td>3</td>\n",
       "      <td>0</td>\n",
       "      <td>US presses Egypt on Gaza border</td>\n",
       "      <td>False</td>\n",
       "      <td>polar</td>\n",
       "      <td>worldnews</td>\n",
       "    </tr>\n",
       "    <tr>\n",
       "      <th>3</th>\n",
       "      <td>1201233290</td>\n",
       "      <td>2008-01-25</td>\n",
       "      <td>1</td>\n",
       "      <td>0</td>\n",
       "      <td>Jump-start economy: Give health care to all</td>\n",
       "      <td>False</td>\n",
       "      <td>fadi420</td>\n",
       "      <td>worldnews</td>\n",
       "    </tr>\n",
       "    <tr>\n",
       "      <th>4</th>\n",
       "      <td>1201274720</td>\n",
       "      <td>2008-01-25</td>\n",
       "      <td>4</td>\n",
       "      <td>0</td>\n",
       "      <td>Council of Europe bashes EU&amp;UN terror blacklist</td>\n",
       "      <td>False</td>\n",
       "      <td>mhermans</td>\n",
       "      <td>worldnews</td>\n",
       "    </tr>\n",
       "  </tbody>\n",
       "</table>\n",
       "</div>"
      ],
      "text/plain": [
       "   time_created date_created  up_votes  down_votes  \\\n",
       "0    1201232046   2008-01-25         3           0   \n",
       "1    1201232075   2008-01-25         2           0   \n",
       "2    1201232523   2008-01-25         3           0   \n",
       "3    1201233290   2008-01-25         1           0   \n",
       "4    1201274720   2008-01-25         4           0   \n",
       "\n",
       "                                             title  over_18    author  \\\n",
       "0                Scores killed in Pakistan clashes    False     polar   \n",
       "1                 Japan resumes refuelling mission    False     polar   \n",
       "2                  US presses Egypt on Gaza border    False     polar   \n",
       "3     Jump-start economy: Give health care to all     False   fadi420   \n",
       "4  Council of Europe bashes EU&UN terror blacklist    False  mhermans   \n",
       "\n",
       "    category  \n",
       "0  worldnews  \n",
       "1  worldnews  \n",
       "2  worldnews  \n",
       "3  worldnews  \n",
       "4  worldnews  "
      ]
     },
     "execution_count": 2,
     "metadata": {},
     "output_type": "execute_result"
    }
   ],
   "source": [
    "df = pd.read_csv('Eluvio_DS_Challenge.csv', header=0, index_col=False, delimiter=',')\n",
    "df.head()"
   ]
  },
  {
   "cell_type": "markdown",
   "metadata": {},
   "source": [
    "### Number of unique entries in each column"
   ]
  },
  {
   "cell_type": "code",
   "execution_count": 3,
   "metadata": {},
   "outputs": [
    {
     "data": {
      "text/plain": [
       "time_created    508329\n",
       "date_created      3223\n",
       "up_votes          5782\n",
       "down_votes           1\n",
       "title           500720\n",
       "over_18              2\n",
       "author           85838\n",
       "category             1\n",
       "dtype: int64"
      ]
     },
     "execution_count": 3,
     "metadata": {},
     "output_type": "execute_result"
    }
   ],
   "source": [
    "df.nunique()"
   ]
  },
  {
   "cell_type": "code",
   "execution_count": 4,
   "metadata": {},
   "outputs": [],
   "source": [
    "# convert date-time column to 'date-time' datatype of pandas\n",
    "df['date_created'] = pd.to_datetime(df['date_created'], errors='coerce')"
   ]
  },
  {
   "cell_type": "markdown",
   "metadata": {},
   "source": [
    "### Number of articles published in each year"
   ]
  },
  {
   "cell_type": "code",
   "execution_count": 5,
   "metadata": {},
   "outputs": [],
   "source": [
    "# groupby year and month\n",
    "years = df.groupby(df['date_created'].dt.year)\n",
    "months = df.groupby(df['date_created'].dt.month)"
   ]
  },
  {
   "cell_type": "code",
   "execution_count": 6,
   "metadata": {},
   "outputs": [
    {
     "data": {
      "image/png": "[encoded data removed]",
      "text/plain": [
       "<Figure size 432x288 with 1 Axes>"
      ]
     },
     "metadata": {
      "needs_background": "light"
     },
     "output_type": "display_data"
    }
   ],
   "source": [
    "counts = []\n",
    "for k,v in years.groups.items():\n",
    "    counts.append((k, len(v)))\n",
    "years = np.asarray(counts)\n",
    "plt.bar(years[:,0], years[:,1], align='center', color='red')\n",
    "plt.title('Number of articles published per year')\n",
    "plt.show()"
   ]
  },
  {
   "cell_type": "code",
   "execution_count": 7,
   "metadata": {},
   "outputs": [
    {
     "data": {
      "image/png": "[encoded data removed]",
      "text/plain": [
       "<Figure size 432x288 with 1 Axes>"
      ]
     },
     "metadata": {
      "needs_background": "light"
     },
     "output_type": "display_data"
    }
   ],
   "source": [
    "counts = []\n",
    "for k,v in months.groups.items():\n",
    "    counts.append((k, len(v)))\n",
    "counts = np.asarray(counts)\n",
    "plt.bar(counts[:,0], counts[:,1], align='center', color='green')\n",
    "plt.title('Number of articles published per month across all years')\n",
    "plt.show()"
   ]
  },
  {
   "cell_type": "markdown",
   "metadata": {},
   "source": [
    "### Authors with maximum number of articles published"
   ]
  },
  {
   "cell_type": "code",
   "execution_count": 8,
   "metadata": {},
   "outputs": [
    {
     "data": {
      "text/plain": [
       "[('davidreiss666', 8897),\n",
       " ('anutensil', 5730),\n",
       " ('DoremusJessup', 5037),\n",
       " ('maxwellhill', 4023),\n",
       " ('igeldard', 4013),\n",
       " ('readerseven', 3170),\n",
       " ('twolf1', 2923),\n",
       " ('madam1', 2658),\n",
       " ('nimobo', 2564),\n",
       " ('madazzahatter', 2503)]"
      ]
     },
     "execution_count": 8,
     "metadata": {},
     "output_type": "execute_result"
    }
   ],
   "source": [
    "# group dataset based on author names and count their up_votes\n",
    "authors = dict(df.groupby('author')['up_votes'].count())\n",
    "# select top 10 using heap\n",
    "heap = [(-v,k) for k,v in authors.items()]\n",
    "largest = heapq.nsmallest(10, heap)\n",
    "largest = [(k,-v) for v,k in largest]\n",
    "largest"
   ]
  },
  {
   "cell_type": "markdown",
   "metadata": {},
   "source": [
    "### Average number of articles published by authors"
   ]
  },
  {
   "cell_type": "code",
   "execution_count": 9,
   "metadata": {},
   "outputs": [
    {
     "name": "stdout",
     "output_type": "stream",
     "text": [
      "Average number of articles for each author = 5.932524056944477\n"
     ]
    }
   ],
   "source": [
    "# groupby author and select the category column just to count total number of rows\n",
    "work = df.groupby('author')['category'].count()\n",
    "avg_work  = 0\n",
    "for k,v in work.items():\n",
    "    avg_work += v\n",
    "avg_work /= len(work)\n",
    "print('Average number of articles for each author =', avg_work)"
   ]
  },
  {
   "cell_type": "markdown",
   "metadata": {},
   "source": [
    "### Year wise top 10 articles  based on number of up_votes"
   ]
  },
  {
   "cell_type": "code",
   "execution_count": 38,
   "metadata": {},
   "outputs": [
    {
     "name": "stdout",
     "output_type": "stream",
     "text": [
      "top 10 authors for the year 2008  (<vote_count, author_name>):\n",
      " [(22504, 'kooby64'), (22503, 'FokkeNews'), (22502, 'kefs'), (22501, 'georgewashingtonblog'), (22500, 'ruppinwedle'), (22499, 'gIowingsheep'), (22498, 'MrDanger'), (22497, 'kcnchfan'), (22496, 'njaard'), (22495, 'ropers')]\n",
      "----------------------------------------------------------------\n",
      "top 10 authors for the year 2009  (<vote_count, author_name>):\n",
      " [(47619, 'see0red'), (47618, 'HeroOfCanton'), (47617, 'MIIAIIRIIK'), (47616, 'jimmycorpse'), (47615, 'spainguy'), (47614, '00boyina'), (47613, 'SolInvictus'), (47612, 'OrangePlus'), (47611, 'SovereignMan'), (47609, 'purelithium')]\n",
      "----------------------------------------------------------------\n",
      "top 10 authors for the year 2010  (<vote_count, author_name>):\n",
      " [(70932, 'trot-trot'), (70931, 'galt1776'), (70930, 'transexfever'), (70928, 'jdrucker'), (70927, 'shot_out'), (70926, 'davidreiss666'), (70925, 'bushwarriors'), (70924, 'gavin19'), (70921, 'steppenwolf86'), (70918, 'wrc-wolf')]\n",
      "----------------------------------------------------------------\n",
      "top 10 authors for the year 2011  (<vote_count, author_name>):\n",
      " [(109818, 'Criminoboy'), (109817, 'readerseven'), (109816, '786yht'), (109815, 'MGERB42'), (109814, 'trot-trot'), (109813, 'feartrich'), (109811, 'davidreiss666'), (109810, 'newsfeather'), (109809, 'Kylde'), (109808, 'robotluvhottub')]\n",
      "----------------------------------------------------------------\n",
      "top 10 authors for the year 2012  (<vote_count, author_name>):\n",
      " [(152461, 'snorgsniffer'), (152460, 'davidreiss666'), (152459, 'required_field'), (152458, 'Datum'), (152457, 'wndrgls'), (152456, 'TiinSoldiier'), (152455, 'madam1'), (152452, 'verytroo'), (152451, 'IranianAsWell'), (152450, 'janre75')]\n",
      "----------------------------------------------------------------\n",
      "top 10 authors for the year 2013  (<vote_count, author_name>):\n",
      " [(240692, 'kashinga'), (240691, 'davidreiss666'), (240690, 'SAT0725'), (240689, 'madam1'), (240688, 'hymrr'), (240687, 'Vdebs'), (240686, 'TheTabraiz'), (240682, 'DukeOfGeek'), (240681, 'green_flash'), (240680, 'lastrella')]\n",
      "----------------------------------------------------------------\n",
      "top 10 authors for the year 2014  (<vote_count, author_name>):\n",
      " [(332722, 'yam12'), (332721, 'Anireburbur'), (332720, 'snchpnz'), (332719, 'Syriancivilwar2'), (332718, 'kraakf'), (332717, 'HandMeMyShank'), (332716, 'wiseprogressivethink'), (332715, 'fallin_up'), (332714, 'Plaatinum_Spark'), (332713, 'Couture13')]\n",
      "----------------------------------------------------------------\n",
      "top 10 authors for the year 2015  (<vote_count, author_name>):\n",
      " [(427343, 'EliteHunting'), (427342, 'kuba85'), (427341, 'Another-Chance'), (427340, 'atomicpete'), (427339, 'alizada'), (427338, 'Somali_Pir8'), (427337, 'evanFFTF'), (427336, 'becoolcouv'), (427335, 'sage199'), (427334, 'redhatGizmo')]\n",
      "----------------------------------------------------------------\n",
      "top 10 authors for the year 2016  (<vote_count, author_name>):\n",
      " [(509235, 'superislam'), (509234, 'smilyflower'), (509233, 'AUSharjah'), (509232, 'SummerRay'), (509231, 'nonamenoglory'), (509230, 'k4lifrag'), (509229, 'Randiathrowaway1'), (509228, 'mossbergGT'), (509227, 'mileyscience'), (509226, 'golden430')]\n",
      "----------------------------------------------------------------\n"
     ]
    }
   ],
   "source": [
    "# groupby based on two columns viz. 'date_created' and 'author'\n",
    "y = df.groupby([df['date_created'].dt.year, df['author']])\n",
    "top_authors = dict((i, []) for i in years[:,0])\n",
    "yearly_top = []\n",
    "work_per_year = {i: [0,0] for i in years[:,0]}\n",
    "count = 0\n",
    "for k,v in y.groups.items():\n",
    "    top_authors[k[0]].append((max(v), k[1]))\n",
    "    work_per_year[k[0]][0] += len(v)\n",
    "    work_per_year[k[0]][1] += 1\n",
    "for k,v in top_authors.items():\n",
    "    heap = heapq.nlargest(10, v)\n",
    "    print('top 10 authors for the year', k,' (<vote_count, author_name>):\\n', heap)\n",
    "    print('----------------------------------------------------------------')\n",
    "    heap = np.asarray(heap)\n",
    "    yearly_top.append(heap[:,1])\n"
   ]
  },
  {
   "cell_type": "markdown",
   "metadata": {},
   "source": [
    "### Average articles published per year"
   ]
  },
  {
   "cell_type": "code",
   "execution_count": 40,
   "metadata": {},
   "outputs": [
    {
     "name": "stdout",
     "output_type": "stream",
     "text": [
      "Avg. articles published per author in year 2008 : 6.623013537374926\n",
      "Avg. articles published per author in year 2009 : 4.338400414579374\n",
      "Avg. articles published per author in year 2010 : 5.16688829787234\n",
      "Avg. articles published per author in year 2011 : 5.0091459487311605\n",
      "Avg. articles published per author in year 2012 : 3.956485433290035\n",
      "Avg. articles published per author in year 2013 : 4.249024801348423\n",
      "Avg. articles published per author in year 2014 : 5.212097185252308\n",
      "Avg. articles published per author in year 2015 : 5.154491474641826\n",
      "Avg. articles published per author in year 2016 : 4.6964500774215745\n",
      "Average articles published through all the years = 4.783534981588637\n"
     ]
    }
   ],
   "source": [
    "for k,v in work_per_year.items():\n",
    "    print('Avg. articles published per author in year', k, ':', v[0]/v[1])"
   ]
  },
  {
   "cell_type": "markdown",
   "metadata": {},
   "source": [
    "### Common famous authors across all the years"
   ]
  },
  {
   "cell_type": "code",
   "execution_count": 19,
   "metadata": {},
   "outputs": [],
   "source": [
    "def findCommon(mat): \n",
    "    M = len(mat)\n",
    "    N = len(mat[0])\n",
    "    # An array to store indexes of  \n",
    "    # current last column \n",
    "    column = [N - 1] * M \n",
    "  \n",
    "    min_row = 0 # Initialize min_row as first row \n",
    "  \n",
    "    # Keep finding min_row in current last  \n",
    "    # column, till either all elements of  \n",
    "    # last column become same or we hit first column. \n",
    "    while (column[min_row] >= 0): \n",
    "      \n",
    "        # Find minimum in current last column \n",
    "        for i in range(M): \n",
    "            if (mat[i][column[i]] <  \n",
    "                mat[min_row][column[min_row]]): \n",
    "                min_row = i \n",
    "      \n",
    "        # eq_count is count of elements equal  \n",
    "        # to minimum in current last column. \n",
    "        eq_count = 0\n",
    "  \n",
    "        # Traverse current last column elements \n",
    "        # again to update it \n",
    "        for i in range(M): \n",
    "              \n",
    "            # Decrease last column index of a row  \n",
    "            # whose value is more than minimum. \n",
    "            if (mat[i][column[i]] >  \n",
    "                mat[min_row][column[min_row]]): \n",
    "                if (column[i] == 0): \n",
    "                    return -1\n",
    "  \n",
    "                column[i] -= 1 # Reduce last column \n",
    "                               # index by 1 \n",
    "          \n",
    "            else: \n",
    "                eq_count += 1\n",
    "  \n",
    "        # If equal count becomes M, return the value \n",
    "        if (eq_count == M): \n",
    "            return mat[min_row][column[min_row]] \n",
    "    return -1"
   ]
  },
  {
   "cell_type": "code",
   "execution_count": 22,
   "metadata": {},
   "outputs": [
    {
     "name": "stdout",
     "output_type": "stream",
     "text": [
      "Common authors across all the years:  -1\n",
      "Therefore, there is no top author who has highest rating across multiple years\n"
     ]
    }
   ],
   "source": [
    "yearly_top = np.asarray(yearly_top)\n",
    "# print(yearly_top)\n",
    "common = findCommon(yearly_top)\n",
    "print('Common authors across all the years: ', common)\n",
    "print('Therefore, there is no top author who has highest rating across multiple years')"
   ]
  },
  {
   "cell_type": "markdown",
   "metadata": {},
   "source": [
    "### Most famous articles"
   ]
  },
  {
   "cell_type": "code",
   "execution_count": 23,
   "metadata": {},
   "outputs": [
    {
     "name": "stdout",
     "output_type": "stream",
     "text": [
      "Number of articles > avg. up_votes count = 47902\n"
     ]
    }
   ],
   "source": [
    "avg_up_votes = sum(df['up_votes'])/len(df['up_votes'])\n",
    "num = 0\n",
    "for index in df['up_votes']:\n",
    "    if index > avg_up_votes:\n",
    "        num += 1\n",
    "print('Number of articles > avg. up_votes count =', num)"
   ]
  },
  {
   "cell_type": "markdown",
   "metadata": {},
   "source": [
    "### Topic Modeling on titles"
   ]
  },
  {
   "cell_type": "code",
   "execution_count": 10,
   "metadata": {},
   "outputs": [],
   "source": [
    "def cleanText(raw_text, remove_stopwords=False, stemming=False, split_text=False):\n",
    "    '''\n",
    "    Convert a raw title to a cleaned title\n",
    "    '''\n",
    "    text = BeautifulSoup(raw_text, 'lxml').get_text()  #remove html\n",
    "    letters_only = re.sub(\"[^a-zA-Z]\", \" \", text)  # remove non-character\n",
    "    words = letters_only.lower().split() # convert to lower case \n",
    "    \n",
    "    if remove_stopwords: # remove stopword\n",
    "        stops = set(stopwords.words(\"english\"))\n",
    "        words = [w for w in words if not w in stops]\n",
    "        \n",
    "    if stemming==True: # stemming\n",
    "#         stemmer = PorterStemmer()\n",
    "        stemmer = SnowballStemmer('english') \n",
    "        words = [stemmer.stem(w) for w in words]\n",
    "        \n",
    "    if split_text==True:  # split text\n",
    "        return (words)\n",
    "    \n",
    "    return( \" \".join(words))"
   ]
  },
  {
   "cell_type": "code",
   "execution_count": 11,
   "metadata": {},
   "outputs": [],
   "source": [
    "# preprocessing a text\n",
    "def lemmatize_stemming(text):\n",
    "    stemmer = SnowballStemmer('english') \n",
    "    return stemmer.stem(WordNetLemmatizer().lemmatize(text, pos='v'))\n",
    "def preprocess(text):\n",
    "    result = []\n",
    "    for token in gensim.utils.simple_preprocess(text):\n",
    "        if token not in gensim.parsing.preprocessing.STOPWORDS and len(token) > 3:\n",
    "            result.append(lemmatize_stemming(token))\n",
    "    return result"
   ]
  },
  {
   "cell_type": "code",
   "execution_count": 12,
   "metadata": {},
   "outputs": [
    {
     "data": {
      "text/plain": [
       "0                       [score, kill, pakistan, clash]\n",
       "1                      [japan, resum, refuel, mission]\n",
       "2                         [press, egypt, gaza, border]\n",
       "3                 [jump, start, economi, health, care]\n",
       "4            [council, europ, bash, terror, blacklist]\n",
       "5    [presto, farmer, unveil, illeg, mock, tudor, c...\n",
       "6    [strike, protest, gridlock, poland, ukrain, bo...\n",
       "7                                  [mismanag, program]\n",
       "8                 [nicola, sarkozi, threaten, ryanair]\n",
       "9    [plan, missil, shield, polish, town, resist, v...\n",
       "Name: title, dtype: object"
      ]
     },
     "execution_count": 12,
     "metadata": {},
     "output_type": "execute_result"
    }
   ],
   "source": [
    "# preprocess the titles and save them in processed_docs\n",
    "processed_docs = df['title'].map(preprocess)\n",
    "processed_docs[:10]"
   ]
  },
  {
   "cell_type": "code",
   "execution_count": 13,
   "metadata": {},
   "outputs": [
    {
     "name": "stdout",
     "output_type": "stream",
     "text": [
      "0 clash\n",
      "1 kill\n",
      "2 pakistan\n",
      "3 score\n",
      "4 japan\n",
      "5 mission\n",
      "6 refuel\n",
      "7 resum\n",
      "8 border\n",
      "9 egypt\n",
      "10 gaza\n"
     ]
    }
   ],
   "source": [
    "# Create a dictionary from ‘processed_docs’ containing the number of times a word appears in the training set\n",
    "dictionary = gensim.corpora.Dictionary(processed_docs)\n",
    "count = 0\n",
    "for k, v in dictionary.iteritems():\n",
    "    print(k, v)\n",
    "    count += 1\n",
    "    if count > 10:\n",
    "        break"
   ]
  },
  {
   "cell_type": "markdown",
   "metadata": {},
   "source": [
    "Filter out tokens that appear in </br>\n",
    "- less than 15 documents (absolute number) or\n",
    "- more than 0.5 documents (fraction of total corpus size, not absolute number).\n",
    "- after the above two steps, keep only the first 100000 most frequent tokens."
   ]
  },
  {
   "cell_type": "code",
   "execution_count": 14,
   "metadata": {},
   "outputs": [],
   "source": [
    "dictionary.filter_extremes(no_below=15, no_above=0.5, keep_n=100000)"
   ]
  },
  {
   "cell_type": "markdown",
   "metadata": {},
   "source": [
    "For each document we create a dictionary reporting how many\n",
    "words and how many times those words appear. Save this to ‘bow_corpus’"
   ]
  },
  {
   "cell_type": "code",
   "execution_count": 15,
   "metadata": {},
   "outputs": [],
   "source": [
    "bow_corpus = [dictionary.doc2bow(doc) for doc in processed_docs]"
   ]
  },
  {
   "cell_type": "markdown",
   "metadata": {},
   "source": [
    "Create tf-idf model object using models.TfidfModel on ‘bow_corpus’ and save it to ‘tfidf’, then apply transformation to the entire corpus and call it ‘corpus_tfidf’. Finally we preview TF-IDF scores for our first document."
   ]
  },
  {
   "cell_type": "code",
   "execution_count": 16,
   "metadata": {},
   "outputs": [],
   "source": [
    "tfidf = models.TfidfModel(bow_corpus)\n",
    "corpus_tfidf = tfidf[bow_corpus]"
   ]
  },
  {
   "cell_type": "markdown",
   "metadata": {},
   "source": [
    "Train our lda model using gensim.models.LdaMulticore and save it to ‘lda_model’"
   ]
  },
  {
   "cell_type": "code",
   "execution_count": 17,
   "metadata": {},
   "outputs": [],
   "source": [
    "lda_model = gensim.models.LdaMulticore(bow_corpus, num_topics=10, id2word=dictionary, passes=2, workers=2)"
   ]
  },
  {
   "cell_type": "markdown",
   "metadata": {},
   "source": [
    "For each topic, we will explore the words occuring in that topic and its relative weight"
   ]
  },
  {
   "cell_type": "code",
   "execution_count": 55,
   "metadata": {},
   "outputs": [
    {
     "name": "stdout",
     "output_type": "stream",
     "text": [
      "Topic: 0 \n",
      "Words: 0.025*\"world\" + 0.016*\"warn\" + 0.015*\"say\" + 0.014*\"china\" + 0.011*\"global\" + 0.009*\"news\" + 0.009*\"scientist\" + 0.008*\"russia\" + 0.008*\"report\" + 0.008*\"studi\"\n",
      "Topic: 1 \n",
      "Words: 0.021*\"death\" + 0.017*\"court\" + 0.016*\"year\" + 0.016*\"right\" + 0.015*\"human\" + 0.015*\"saudi\" + 0.012*\"women\" + 0.012*\"charg\" + 0.011*\"case\" + 0.010*\"arabia\"\n",
      "Topic: 2 \n",
      "Words: 0.031*\"protest\" + 0.030*\"polic\" + 0.014*\"thousand\" + 0.011*\"migrant\" + 0.010*\"london\" + 0.010*\"citi\" + 0.009*\"news\" + 0.009*\"video\" + 0.009*\"trump\" + 0.007*\"home\"\n",
      "Topic: 3 \n",
      "Words: 0.029*\"refuge\" + 0.026*\"israel\" + 0.023*\"bank\" + 0.019*\"palestinian\" + 0.019*\"isra\" + 0.017*\"deal\" + 0.013*\"peac\" + 0.011*\"west\" + 0.010*\"ship\" + 0.010*\"flight\"\n",
      "Topic: 4 \n",
      "Words: 0.016*\"vote\" + 0.013*\"germani\" + 0.012*\"european\" + 0.011*\"billion\" + 0.010*\"million\" + 0.010*\"elect\" + 0.009*\"year\" + 0.008*\"migrant\" + 0.008*\"compani\" + 0.007*\"say\"\n",
      "Topic: 5 \n",
      "Words: 0.032*\"state\" + 0.031*\"isi\" + 0.027*\"syria\" + 0.025*\"say\" + 0.023*\"minist\" + 0.021*\"iran\" + 0.020*\"islam\" + 0.019*\"turkey\" + 0.011*\"forc\" + 0.011*\"iraq\"\n",
      "Topic: 6 \n",
      "Words: 0.045*\"russia\" + 0.026*\"putin\" + 0.025*\"ukrain\" + 0.022*\"mosul\" + 0.013*\"conflict\" + 0.009*\"say\" + 0.008*\"weapon\" + 0.007*\"chemic\" + 0.007*\"illeg\" + 0.006*\"presid\"\n",
      "Topic: 7 \n",
      "Words: 0.059*\"kill\" + 0.044*\"attack\" + 0.025*\"russian\" + 0.022*\"syrian\" + 0.020*\"dead\" + 0.020*\"bomb\" + 0.017*\"pakistan\" + 0.013*\"polic\" + 0.013*\"suspect\" + 0.011*\"aleppo\"\n",
      "Topic: 8 \n",
      "Words: 0.020*\"presid\" + 0.018*\"brexit\" + 0.017*\"pari\" + 0.016*\"leader\" + 0.012*\"french\" + 0.012*\"climat\" + 0.012*\"german\" + 0.012*\"rule\" + 0.012*\"parti\" + 0.011*\"say\"\n",
      "Topic: 9 \n",
      "Words: 0.061*\"china\" + 0.035*\"south\" + 0.030*\"korea\" + 0.028*\"north\" + 0.020*\"japan\" + 0.016*\"india\" + 0.013*\"nuclear\" + 0.012*\"missil\" + 0.011*\"test\" + 0.009*\"korean\"\n"
     ]
    }
   ],
   "source": [
    "for idx, topic in lda_model.print_topics(-1):\n",
    "    print('Topic: {} \\nWords: {}'.format(idx, topic))"
   ]
  },
  {
   "cell_type": "markdown",
   "metadata": {},
   "source": [
    "Running LDA using TF-IDF"
   ]
  },
  {
   "cell_type": "code",
   "execution_count": 56,
   "metadata": {},
   "outputs": [
    {
     "name": "stdout",
     "output_type": "stream",
     "text": [
      "Topic: 0 Word: 0.012*\"brexit\" + 0.010*\"vote\" + 0.009*\"elect\" + 0.009*\"minist\" + 0.008*\"presid\" + 0.007*\"parti\" + 0.006*\"parliament\" + 0.005*\"referendum\" + 0.005*\"prime\" + 0.005*\"say\"\n",
      "Topic: 1 Word: 0.006*\"kurd\" + 0.005*\"brussel\" + 0.005*\"jet\" + 0.005*\"panama\" + 0.004*\"space\" + 0.004*\"jong\" + 0.004*\"zealand\" + 0.004*\"attack\" + 0.004*\"kenya\" + 0.004*\"kill\"\n",
      "Topic: 2 Word: 0.006*\"china\" + 0.005*\"billion\" + 0.005*\"say\" + 0.005*\"taiwan\" + 0.004*\"bank\" + 0.004*\"russia\" + 0.004*\"greek\" + 0.004*\"year\" + 0.004*\"record\" + 0.004*\"deal\"\n",
      "Topic: 3 Word: 0.016*\"isi\" + 0.011*\"attack\" + 0.011*\"islam\" + 0.009*\"state\" + 0.009*\"pari\" + 0.007*\"terror\" + 0.007*\"arrest\" + 0.007*\"kill\" + 0.006*\"suspect\" + 0.006*\"syria\"\n",
      "Topic: 4 Word: 0.009*\"china\" + 0.008*\"climat\" + 0.007*\"world\" + 0.006*\"global\" + 0.006*\"greec\" + 0.006*\"chang\" + 0.005*\"year\" + 0.005*\"say\" + 0.005*\"india\" + 0.004*\"energi\"\n",
      "Topic: 5 Word: 0.008*\"china\" + 0.007*\"pope\" + 0.005*\"ship\" + 0.005*\"boat\" + 0.005*\"trump\" + 0.005*\"navi\" + 0.005*\"malaysia\" + 0.004*\"franci\" + 0.004*\"say\" + 0.004*\"asylum\"\n",
      "Topic: 6 Word: 0.011*\"saudi\" + 0.009*\"arabia\" + 0.007*\"erdogan\" + 0.006*\"zika\" + 0.005*\"say\" + 0.005*\"china\" + 0.005*\"world\" + 0.004*\"virus\" + 0.004*\"russia\" + 0.004*\"israel\"\n",
      "Topic: 7 Word: 0.017*\"kill\" + 0.014*\"syria\" + 0.012*\"bomb\" + 0.011*\"syrian\" + 0.010*\"attack\" + 0.010*\"isi\" + 0.009*\"aleppo\" + 0.008*\"mosul\" + 0.007*\"strike\" + 0.007*\"dead\"\n",
      "Topic: 8 Word: 0.022*\"korea\" + 0.018*\"north\" + 0.014*\"south\" + 0.011*\"nuclear\" + 0.010*\"russia\" + 0.010*\"china\" + 0.009*\"missil\" + 0.008*\"iran\" + 0.007*\"deal\" + 0.007*\"korean\"\n",
      "Topic: 9 Word: 0.010*\"kill\" + 0.008*\"afghan\" + 0.008*\"taliban\" + 0.007*\"dutert\" + 0.007*\"pakistan\" + 0.007*\"afghanistan\" + 0.006*\"attack\" + 0.006*\"polic\" + 0.006*\"netanyahu\" + 0.006*\"palestinian\"\n"
     ]
    }
   ],
   "source": [
    "lda_model_tfidf = gensim.models.LdaMulticore(corpus_tfidf, num_topics=10, id2word=dictionary, passes=2, workers=4)\n",
    "for idx, topic in lda_model_tfidf.print_topics(-1):\n",
    "    print('Topic: {} Word: {}'.format(idx, topic))"
   ]
  },
  {
   "cell_type": "markdown",
   "metadata": {},
   "source": [
    "Check where our test document i.e. datapoint at index 0 would be classified"
   ]
  },
  {
   "cell_type": "code",
   "execution_count": 57,
   "metadata": {},
   "outputs": [
    {
     "name": "stdout",
     "output_type": "stream",
     "text": [
      "\n",
      "Score: 0.4484669864177704\t \n",
      "Topic: 0.020*\"presid\" + 0.018*\"brexit\" + 0.017*\"pari\" + 0.016*\"leader\" + 0.012*\"french\" + 0.012*\"climat\" + 0.012*\"german\" + 0.012*\"rule\" + 0.012*\"parti\" + 0.011*\"say\"\n",
      "\n",
      "Score: 0.437173992395401\t \n",
      "Topic: 0.021*\"death\" + 0.017*\"court\" + 0.016*\"year\" + 0.016*\"right\" + 0.015*\"human\" + 0.015*\"saudi\" + 0.012*\"women\" + 0.012*\"charg\" + 0.011*\"case\" + 0.010*\"arabia\"\n",
      "\n",
      "Score: 0.014297930523753166\t \n",
      "Topic: 0.032*\"state\" + 0.031*\"isi\" + 0.027*\"syria\" + 0.025*\"say\" + 0.023*\"minist\" + 0.021*\"iran\" + 0.020*\"islam\" + 0.019*\"turkey\" + 0.011*\"forc\" + 0.011*\"iraq\"\n",
      "\n",
      "Score: 0.01429768931120634\t \n",
      "Topic: 0.059*\"kill\" + 0.044*\"attack\" + 0.025*\"russian\" + 0.022*\"syrian\" + 0.020*\"dead\" + 0.020*\"bomb\" + 0.017*\"pakistan\" + 0.013*\"polic\" + 0.013*\"suspect\" + 0.011*\"aleppo\"\n",
      "\n",
      "Score: 0.014295076951384544\t \n",
      "Topic: 0.031*\"protest\" + 0.030*\"polic\" + 0.014*\"thousand\" + 0.011*\"migrant\" + 0.010*\"london\" + 0.010*\"citi\" + 0.009*\"news\" + 0.009*\"video\" + 0.009*\"trump\" + 0.007*\"home\"\n",
      "\n",
      "Score: 0.01429431140422821\t \n",
      "Topic: 0.016*\"vote\" + 0.013*\"germani\" + 0.012*\"european\" + 0.011*\"billion\" + 0.010*\"million\" + 0.010*\"elect\" + 0.009*\"year\" + 0.008*\"migrant\" + 0.008*\"compani\" + 0.007*\"say\"\n",
      "\n",
      "Score: 0.014293806627392769\t \n",
      "Topic: 0.029*\"refuge\" + 0.026*\"israel\" + 0.023*\"bank\" + 0.019*\"palestinian\" + 0.019*\"isra\" + 0.017*\"deal\" + 0.013*\"peac\" + 0.011*\"west\" + 0.010*\"ship\" + 0.010*\"flight\"\n",
      "\n",
      "Score: 0.014293704181909561\t \n",
      "Topic: 0.025*\"world\" + 0.016*\"warn\" + 0.015*\"say\" + 0.014*\"china\" + 0.011*\"global\" + 0.009*\"news\" + 0.009*\"scientist\" + 0.008*\"russia\" + 0.008*\"report\" + 0.008*\"studi\"\n",
      "\n",
      "Score: 0.014293299987912178\t \n",
      "Topic: 0.045*\"russia\" + 0.026*\"putin\" + 0.025*\"ukrain\" + 0.022*\"mosul\" + 0.013*\"conflict\" + 0.009*\"say\" + 0.008*\"weapon\" + 0.007*\"chemic\" + 0.007*\"illeg\" + 0.006*\"presid\"\n",
      "\n",
      "Score: 0.014293204993009567\t \n",
      "Topic: 0.061*\"china\" + 0.035*\"south\" + 0.030*\"korea\" + 0.028*\"north\" + 0.020*\"japan\" + 0.016*\"india\" + 0.013*\"nuclear\" + 0.012*\"missil\" + 0.011*\"test\" + 0.009*\"korean\"\n"
     ]
    }
   ],
   "source": [
    "for index, score in sorted(lda_model[bow_corpus[0]], key=lambda tup: -1*tup[1]):\n",
    "    print(\"\\nScore: {}\\t \\nTopic: {}\".format(score, lda_model.print_topic(index, 10)))\n"
   ]
  },
  {
   "cell_type": "code",
   "execution_count": null,
   "metadata": {},
   "outputs": [],
   "source": []
  }
 ],
 "metadata": {
  "kernelspec": {
   "display_name": "pyTorchProjects",
   "language": "python",
   "name": "pytorchprojects"
  },
  "language_info": {
   "codemirror_mode": {
    "name": "ipython",
    "version": 3
   },
   "file_extension": ".py",
   "mimetype": "text/x-python",
   "name": "python",
   "nbconvert_exporter": "python",
   "pygments_lexer": "ipython3",
   "version": "3.7.3"
  }
 },
 "nbformat": 4,
 "nbformat_minor": 2
}
